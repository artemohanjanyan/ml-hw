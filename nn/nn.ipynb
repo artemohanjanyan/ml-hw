{
 "cells": [
  {
   "cell_type": "code",
   "execution_count": 1,
   "metadata": {
    "collapsed": false,
    "deletable": true,
    "editable": true
   },
   "outputs": [],
   "source": [
    "import matplotlib.pyplot as plt\n",
    "%matplotlib inline\n",
    "\n",
    "from mnist import train_images, test_images, train_labels, test_labels\n",
    "import numpy as np\n",
    "from scipy.misc import imresize\n",
    "import math\n",
    "from collections import namedtuple\n",
    "from functools import partial\n",
    "\n",
    "np.seterr(all='raise')\n",
    "pass"
   ]
  },
  {
   "cell_type": "code",
   "execution_count": 2,
   "metadata": {
    "collapsed": true,
    "deletable": true,
    "editable": true
   },
   "outputs": [],
   "source": [
    "class nnClassifier():\n",
    "    \n",
    "    def __init__(self, h, ll):\n",
    "        self.sigma = lambda x : (1 + np.exp(-x)) ** (-1)\n",
    "        self.h = h\n",
    "        self.ll = ll\n",
    "\n",
    "    def fit(self, x, y):\n",
    "        n = x.shape[1]\n",
    "        m = y.shape[1]\n",
    "        l = x.shape[0]\n",
    "        x = np.append(-1 * np.ones((x.shape[0], 1)), x, axis=1)\n",
    "        \n",
    "        w0 = (np.random.random((n + 1, self.h)) - 0.5) / n\n",
    "        w1 = (np.random.random((self.h + 1, m)) - 0.5) / m\n",
    "        q = l / 10.0\n",
    "        EPS = 1e-5\n",
    "\n",
    "        iteration = 0\n",
    "        while True:\n",
    "            i = np.random.randint(l)\n",
    "            u = np.append(-1, self.sigma(x[i].dot(w0)))\n",
    "            a = self.sigma(u.dot(w1))\n",
    "            eps1 = a - y[i]\n",
    "            q_i = np.sum(eps1 * eps1)\n",
    "            \n",
    "            eps0 = w1.dot(eps1 * a * (1 - a))\n",
    "            \n",
    "            w1 -= self.ll * np.outer(u,    eps1 * a * (1 - a))\n",
    "            w0 -= self.ll * np.outer(x[i], np.delete(eps0 * u * (1 - u), 0, 0))\n",
    "            new_q = (l - 1) / l * q + q_i / l\n",
    "            \n",
    "            if abs(new_q - q) < EPS:\n",
    "                break\n",
    "            iteration += 1\n",
    "            if iteration % 30000 == 0:\n",
    "                print(iteration, q)\n",
    "            q = new_q\n",
    "            \n",
    "        self.w0 = w0\n",
    "        self.w1 = w1\n",
    "\n",
    "    def predict(self, point):\n",
    "        u = self.sigma(np.append(-1, point).dot(self.w0))\n",
    "        a = self.sigma(np.append(-1, u).dot(self.w1))\n",
    "        return a"
   ]
  },
  {
   "cell_type": "code",
   "execution_count": 3,
   "metadata": {
    "collapsed": true,
    "deletable": true,
    "editable": true
   },
   "outputs": [],
   "source": [
    "class mnistAdapter():\n",
    "    def __init__(self, classifier):\n",
    "        self.classifier = classifier\n",
    "        \n",
    "    def fit(self, x, y):\n",
    "        x_my = x.reshape((x.shape[0], -1)).astype(np.float) / 255\n",
    "        y_my = np.identity(10)[y]\n",
    "        self.classifier.fit(x_my, y_my)\n",
    "        \n",
    "    def predict(self, point):\n",
    "        point_my = point.reshape((-1)).astype(np.float) / 255\n",
    "        return np.argmax(self.classifier.predict(point_my))"
   ]
  },
  {
   "cell_type": "code",
   "execution_count": 4,
   "metadata": {
    "collapsed": false,
    "deletable": true,
    "editable": true
   },
   "outputs": [
    {
     "name": "stdout",
     "output_type": "stream",
     "text": [
      "30000 3639.30201732\n",
      "60000 2207.37068285\n",
      "90000 1338.8597342\n",
      "120000 812.07955321\n",
      "150000 492.570387412\n",
      "180000 298.777233219\n",
      "210000 181.235244462\n",
      "240000 109.941617515\n",
      "270000 66.6991483726\n",
      "300000 40.4703545382\n",
      "330000 24.5605282478\n",
      "360000 14.911035859\n",
      "390000 9.05686332488\n",
      "420000 5.50561523563\n",
      "450000 3.35004981761\n"
     ]
    }
   ],
   "source": [
    "mnistNN = mnistAdapter(nnClassifier(300, 1))\n",
    "mnistNN.fit(train_images(), train_labels())"
   ]
  },
  {
   "cell_type": "code",
   "execution_count": 5,
   "metadata": {
    "collapsed": false,
    "deletable": true,
    "editable": true
   },
   "outputs": [],
   "source": [
    "test_predictions = np.array([mnistNN.predict(point) for point in test_images()])\n",
    "wrong_answers = np.nonzero(test_predictions - test_labels())[0]\n",
    "accuracy = 100 - len(wrong_answers) / len(test_images()) * 100"
   ]
  },
  {
   "cell_type": "code",
   "execution_count": 6,
   "metadata": {
    "collapsed": false,
    "deletable": true,
    "editable": true
   },
   "outputs": [
    {
     "name": "stdout",
     "output_type": "stream",
     "text": [
      "97.26\n"
     ]
    }
   ],
   "source": [
    "print(accuracy)"
   ]
  },
  {
   "cell_type": "code",
   "execution_count": 7,
   "metadata": {
    "collapsed": false,
    "deletable": true,
    "editable": true
   },
   "outputs": [
    {
     "data": {
      "image/png": "[encoded data removed]",
      "text/plain": [
       "<matplotlib.figure.Figure at 0x7f6576255f28>"
      ]
     },
     "metadata": {},
     "output_type": "display_data"
    }
   ],
   "source": [
    "fig = plt.figure(figsize = (10, 10))\n",
    "for i, wrong_i in zip(range(9), wrong_answers):\n",
    "    subplot = fig.add_subplot(3, 3, i + 1)\n",
    "    subplot.imshow(test_images()[wrong_i], cmap='gray')\n",
    "    subplot.axis(\"off\")\n",
    "    subplot.set_title(\"label = {}, prediction = {}\".format(test_labels()[wrong_i], test_predictions[wrong_i]))\n",
    "plt.show()"
   ]
  },
  {
   "cell_type": "code",
   "execution_count": 8,
   "metadata": {
    "collapsed": false,
    "deletable": true,
    "editable": true
   },
   "outputs": [
    {
     "data": {
      "text/plain": [
       "1"
      ]
     },
     "execution_count": 8,
     "metadata": {},
     "output_type": "execute_result"
    }
   ],
   "source": [
    "digit = (1 - plt.imread(\"digit.png\")) * 255\n",
    "digit = imresize(digit, (28, 28))\n",
    "mnistNN.predict(digit)"
   ]
  }
 ],
 "metadata": {
  "kernelspec": {
   "display_name": "Python 3",
   "language": "python",
   "name": "python3"
  },
  "language_info": {
   "codemirror_mode": {
    "name": "ipython",
    "version": 3
   },
   "file_extension": ".py",
   "mimetype": "text/x-python",
   "name": "python",
   "nbconvert_exporter": "python",
   "pygments_lexer": "ipython3",
   "version": "3.5.2"
  }
 },
 "nbformat": 4,
 "nbformat_minor": 1
}
