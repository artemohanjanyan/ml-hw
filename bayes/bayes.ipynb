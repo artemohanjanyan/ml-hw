{
 "cells": [
  {
   "cell_type": "code",
   "execution_count": 1,
   "metadata": {
    "collapsed": false,
    "deletable": true,
    "editable": true
   },
   "outputs": [],
   "source": [
    "from os import listdir\n",
    "from os.path import isfile, join\n",
    "from collections import namedtuple\n",
    "from functools import partial\n",
    "from IPython.display import HTML, display\n",
    "import pandas as pd\n",
    "import numpy  as np\n",
    "import matplotlib.pyplot as plt\n",
    "\n",
    "pd.set_option(\"display.max_columns\", 50)"
   ]
  },
  {
   "cell_type": "code",
   "execution_count": 2,
   "metadata": {
    "collapsed": true,
    "deletable": true,
    "editable": true
   },
   "outputs": [],
   "source": [
    "def dict_inc(d ,key):\n",
    "    if key in d:\n",
    "        d[key] += 1\n",
    "    else:\n",
    "        d[key] = 1\n",
    "\n",
    "def get_msg(filename):\n",
    "    msg = {}\n",
    "    msg['is_spam'] = \"spmsg\" in filename\n",
    "    with open(filename, 'r') as f:\n",
    "        l = next(f)\n",
    "        header = []\n",
    "        for n in l.split()[1:]:\n",
    "            header.append(int(n))\n",
    "        msg['header'] = header\n",
    "        body = []\n",
    "        for l in f:\n",
    "            for n in l.split():\n",
    "                body.append(int(n))\n",
    "        msg['body'] = body\n",
    "    return msg  "
   ]
  },
  {
   "cell_type": "code",
   "execution_count": 3,
   "metadata": {
    "collapsed": false,
    "deletable": true,
    "editable": true
   },
   "outputs": [],
   "source": [
    "datapath = \"data\"\n",
    "parts = [join(datapath, f) for f in listdir(datapath)]\n",
    "data = [[get_msg(join(part, f)) for f in listdir(part)] for part in parts]"
   ]
  },
  {
   "cell_type": "code",
   "execution_count": 4,
   "metadata": {
    "collapsed": false
   },
   "outputs": [],
   "source": [
    "max_key = 25000\n",
    "smooth = 1e-20\n",
    "# for d in data:\n",
    "#     for msg in d:\n",
    "#         for word in msg['header']:\n",
    "#             max_key = max(max_key, word)\n",
    "#         for word in msg['body']:\n",
    "#             max_key = max(max_key, word)   \n",
    "# print(max_key)                              --> got 24747"
   ]
  },
  {
   "cell_type": "code",
   "execution_count": 5,
   "metadata": {
    "collapsed": false
   },
   "outputs": [],
   "source": [
    "def convert_msgs(data, converter):\n",
    "    Xs, Ys = [], []\n",
    "    for msg in data:\n",
    "        x, y = converter(msg)\n",
    "        Xs.append(x)\n",
    "        Ys.append(y)\n",
    "    return np.array(Xs), np.array(Ys).astype(int)\n",
    "\n",
    "def simple_converter(msg):    \n",
    "    x = np.zeros(max_key, dtype=np.int)\n",
    "    for word in msg['header']:\n",
    "        x[word] += 1\n",
    "    for word in msg['body']:\n",
    "        x[word] += 1    \n",
    "    return x, msg['is_spam']\n",
    "\n",
    "def subject_independent_converter(msg):    \n",
    "    x = np.zeros(max_key * 2, dtype=np.int)\n",
    "    for word in msg['header']:\n",
    "        x[word + max_key] += 1\n",
    "    for word in msg['body']:\n",
    "        x[word] += 1    \n",
    "    return x, msg['is_spam']\n",
    "\n",
    "convert_msgs_simple = lambda x: convert_msgs(x, simple_converter)"
   ]
  },
  {
   "cell_type": "code",
   "execution_count": 6,
   "metadata": {
    "collapsed": false
   },
   "outputs": [],
   "source": [
    "naive_bayes = namedtuple(\"naive_bayes\", \"class_prob prior_prob lambdas\")\n",
    "\n",
    "def fit(X, Y, lambdas=None):\n",
    "    classes = np.unique(Y)\n",
    "    class_count = np.max(classes) + 1\n",
    "    \n",
    "    prior_prob = np.zeros((class_count, X.shape[1]))\n",
    "    class_prob = np.zeros(class_count)\n",
    "    for cl in classes:\n",
    "        elem_count = Y[Y == cl].shape[0]\n",
    "        feature_counts = np.sum(X[Y == cl], axis=0)\n",
    "        all_feature_count = np.sum(feature_counts)\n",
    "\n",
    "        prior_prob[cl] = (feature_counts + smooth) / (all_feature_count + smooth * X.shape[1])\n",
    "        class_prob[cl] = float(elem_count) / Y.shape[0]\n",
    "    \n",
    "    return naive_bayes(class_prob, prior_prob, lambdas if lambdas != None else np.zeros(class_count))\n",
    "\n",
    "def predict(bayes, x):\n",
    "    y_pred = np.zeros(x.shape[0], dtype=np.int)\n",
    "    for i in np.arange(0, x.shape[0]):\n",
    "        y_pred[i] = np.argmax(\n",
    "            bayes.lambdas + np.log(bayes.class_prob) + np.sum(np.log(bayes.prior_prob.T[x[i]>0]), axis=0)\n",
    "          )\n",
    "    \n",
    "    return y_pred"
   ]
  },
  {
   "cell_type": "code",
   "execution_count": 7,
   "metadata": {
    "collapsed": true
   },
   "outputs": [],
   "source": [
    "x_parts = []\n",
    "y_parts = []\n",
    "for d in data:\n",
    "    x, y = convert_msgs_simple(d)\n",
    "    x_parts.append(x)\n",
    "    y_parts.append(y)"
   ]
  },
  {
   "cell_type": "code",
   "execution_count": 8,
   "metadata": {
    "collapsed": false
   },
   "outputs": [],
   "source": [
    "def precision(contingency_table):\n",
    "    return contingency_table[1][1] / (contingency_table[1][1] + contingency_table[0][1])\n",
    "\n",
    "def recall(contingency_table):\n",
    "    return contingency_table[1][1] / (contingency_table[1][1] + contingency_table[0][0])\n",
    "\n",
    "def fallout(contingency_table):\n",
    "    return contingency_table[0][1] / (contingency_table[0][1] + contingency_table[1][0])\n",
    "\n",
    "def f1_measure(contingency_table):\n",
    "    p = precision(contingency_table)\n",
    "    r = recall(contingency_table)\n",
    "    return 2 * p * r / (p + r)\n",
    "\n",
    "def cross_validate(x_parts, y_parts, cl=1, params=None):\n",
    "    contingency_table = [[0,0],[0,0]]\n",
    "    for i in range(len(x_parts)):\n",
    "        x_train = np.concatenate(np.delete(x_parts, i, 0))\n",
    "        y_train = np.concatenate(np.delete(y_parts, i, 0))\n",
    "        x_test = x_parts[i]\n",
    "        y_test = y_parts[i]\n",
    "\n",
    "        y_pred = predict(fit(x_train, y_train, params), x_test)\n",
    "        \n",
    "        true_positive  = np.sum(np.logical_and(y_pred == cl, y_test == cl))\n",
    "        false_positive = np.sum(np.logical_and(y_pred == cl, y_test != cl))\n",
    "        true_negative  = np.sum(np.logical_and(y_pred != cl, y_test != cl))\n",
    "        false_negative = np.sum(np.logical_and(y_pred != cl, y_test == cl))\n",
    "        \n",
    "        contingency_table[1][1] += true_positive  / y_test.shape[0] / len(x_parts)\n",
    "        contingency_table[0][1] += false_positive / y_test.shape[0] / len(x_parts)\n",
    "        contingency_table[1][0] += true_negative  / y_test.shape[0] / len(x_parts)\n",
    "        contingency_table[0][0] += false_negative / y_test.shape[0] / len(x_parts)\n",
    "    \n",
    "    return contingency_table "
   ]
  },
  {
   "cell_type": "code",
   "execution_count": 9,
   "metadata": {
    "collapsed": true
   },
   "outputs": [],
   "source": [
    "params = [(l, 0) for l in np.concatenate((\n",
    "              np.arange(-8000, -1000, 1000), \n",
    "              np.arange(-1000, +1000, 100), \n",
    "              np.arange(+1000, +8000, 1000)\n",
    "))]"
   ]
  },
  {
   "cell_type": "code",
   "execution_count": 10,
   "metadata": {
    "collapsed": false
   },
   "outputs": [],
   "source": [
    "contingency_tables = np.array([cross_validate(x_parts, y_parts, 1, p) for p in params])"
   ]
  },
  {
   "cell_type": "code",
   "execution_count": 11,
   "metadata": {
    "collapsed": false
   },
   "outputs": [],
   "source": [
    "tpr = [recall(table)     for table in contingency_tables]\n",
    "fpr = [fallout(table)    for table in contingency_tables]\n",
    "f1  = [f1_measure(table) for table in contingency_tables]"
   ]
  },
  {
   "cell_type": "code",
   "execution_count": 12,
   "metadata": {
    "collapsed": false
   },
   "outputs": [
    {
     "data": {
      "text/html": [
       "<div>\n",
       "<style>\n",
       "    .dataframe thead tr:only-child th {\n",
       "        text-align: right;\n",
       "    }\n",
       "\n",
       "    .dataframe thead th {\n",
       "        text-align: left;\n",
       "    }\n",
       "\n",
       "    .dataframe tbody tr th {\n",
       "        vertical-align: top;\n",
       "    }\n",
       "</style>\n",
       "<table border=\"1\" class=\"dataframe\">\n",
       "  <thead>\n",
       "    <tr style=\"text-align: right;\">\n",
       "      <th></th>\n",
       "      <th>-8000</th>\n",
       "      <th>-7000</th>\n",
       "      <th>-6000</th>\n",
       "      <th>-5000</th>\n",
       "      <th>-4000</th>\n",
       "      <th>-3000</th>\n",
       "      <th>-2000</th>\n",
       "      <th>-1000</th>\n",
       "      <th>-900</th>\n",
       "      <th>-800</th>\n",
       "      <th>-700</th>\n",
       "      <th>-600</th>\n",
       "      <th>-500</th>\n",
       "      <th>-400</th>\n",
       "      <th>-300</th>\n",
       "      <th>-200</th>\n",
       "      <th>-100</th>\n",
       "      <th>0</th>\n",
       "      <th>100</th>\n",
       "      <th>200</th>\n",
       "      <th>300</th>\n",
       "      <th>400</th>\n",
       "      <th>500</th>\n",
       "      <th>600</th>\n",
       "      <th>700</th>\n",
       "      <th>800</th>\n",
       "      <th>900</th>\n",
       "      <th>1000</th>\n",
       "      <th>2000</th>\n",
       "      <th>3000</th>\n",
       "      <th>4000</th>\n",
       "      <th>5000</th>\n",
       "      <th>6000</th>\n",
       "      <th>7000</th>\n",
       "    </tr>\n",
       "    <tr>\n",
       "      <th>window</th>\n",
       "      <th></th>\n",
       "      <th></th>\n",
       "      <th></th>\n",
       "      <th></th>\n",
       "      <th></th>\n",
       "      <th></th>\n",
       "      <th></th>\n",
       "      <th></th>\n",
       "      <th></th>\n",
       "      <th></th>\n",
       "      <th></th>\n",
       "      <th></th>\n",
       "      <th></th>\n",
       "      <th></th>\n",
       "      <th></th>\n",
       "      <th></th>\n",
       "      <th></th>\n",
       "      <th></th>\n",
       "      <th></th>\n",
       "      <th></th>\n",
       "      <th></th>\n",
       "      <th></th>\n",
       "      <th></th>\n",
       "      <th></th>\n",
       "      <th></th>\n",
       "      <th></th>\n",
       "      <th></th>\n",
       "      <th></th>\n",
       "      <th></th>\n",
       "      <th></th>\n",
       "      <th></th>\n",
       "      <th></th>\n",
       "      <th></th>\n",
       "      <th></th>\n",
       "    </tr>\n",
       "  </thead>\n",
       "  <tbody>\n",
       "    <tr>\n",
       "      <th>tpr</th>\n",
       "      <td>1.000000</td>\n",
       "      <td>1.000000</td>\n",
       "      <td>1.000000</td>\n",
       "      <td>1.000000</td>\n",
       "      <td>1.000000</td>\n",
       "      <td>1.000000</td>\n",
       "      <td>1.000000</td>\n",
       "      <td>1.000000</td>\n",
       "      <td>1.000000</td>\n",
       "      <td>1.000000</td>\n",
       "      <td>1.000000</td>\n",
       "      <td>1.000000</td>\n",
       "      <td>1.000000</td>\n",
       "      <td>0.997917</td>\n",
       "      <td>0.995833</td>\n",
       "      <td>0.989583</td>\n",
       "      <td>0.979167</td>\n",
       "      <td>0.964583</td>\n",
       "      <td>0.879167</td>\n",
       "      <td>0.775000</td>\n",
       "      <td>0.670833</td>\n",
       "      <td>0.587500</td>\n",
       "      <td>0.525000</td>\n",
       "      <td>0.472917</td>\n",
       "      <td>0.425000</td>\n",
       "      <td>0.377083</td>\n",
       "      <td>0.352083</td>\n",
       "      <td>0.320833</td>\n",
       "      <td>0.195833</td>\n",
       "      <td>0.108333</td>\n",
       "      <td>0.062500</td>\n",
       "      <td>0.047917</td>\n",
       "      <td>0.027083</td>\n",
       "      <td>0.006250</td>\n",
       "    </tr>\n",
       "    <tr>\n",
       "      <th>fpr</th>\n",
       "      <td>0.972131</td>\n",
       "      <td>0.959016</td>\n",
       "      <td>0.945902</td>\n",
       "      <td>0.931148</td>\n",
       "      <td>0.877049</td>\n",
       "      <td>0.793443</td>\n",
       "      <td>0.675410</td>\n",
       "      <td>0.481967</td>\n",
       "      <td>0.432787</td>\n",
       "      <td>0.386885</td>\n",
       "      <td>0.337705</td>\n",
       "      <td>0.295082</td>\n",
       "      <td>0.255738</td>\n",
       "      <td>0.204918</td>\n",
       "      <td>0.157377</td>\n",
       "      <td>0.093443</td>\n",
       "      <td>0.037705</td>\n",
       "      <td>0.013115</td>\n",
       "      <td>0.001639</td>\n",
       "      <td>0.001639</td>\n",
       "      <td>0.001639</td>\n",
       "      <td>0.000000</td>\n",
       "      <td>0.000000</td>\n",
       "      <td>0.000000</td>\n",
       "      <td>0.000000</td>\n",
       "      <td>0.000000</td>\n",
       "      <td>0.000000</td>\n",
       "      <td>0.000000</td>\n",
       "      <td>0.000000</td>\n",
       "      <td>0.000000</td>\n",
       "      <td>0.000000</td>\n",
       "      <td>0.000000</td>\n",
       "      <td>0.000000</td>\n",
       "      <td>0.000000</td>\n",
       "    </tr>\n",
       "    <tr>\n",
       "      <th>f1</th>\n",
       "      <td>0.618158</td>\n",
       "      <td>0.621359</td>\n",
       "      <td>0.624593</td>\n",
       "      <td>0.628272</td>\n",
       "      <td>0.642140</td>\n",
       "      <td>0.664820</td>\n",
       "      <td>0.699708</td>\n",
       "      <td>0.765550</td>\n",
       "      <td>0.784314</td>\n",
       "      <td>0.802676</td>\n",
       "      <td>0.823328</td>\n",
       "      <td>0.842105</td>\n",
       "      <td>0.860215</td>\n",
       "      <td>0.883764</td>\n",
       "      <td>0.907021</td>\n",
       "      <td>0.938735</td>\n",
       "      <td>0.966084</td>\n",
       "      <td>0.973712</td>\n",
       "      <td>0.934662</td>\n",
       "      <td>0.872216</td>\n",
       "      <td>0.801993</td>\n",
       "      <td>0.740157</td>\n",
       "      <td>0.688525</td>\n",
       "      <td>0.642150</td>\n",
       "      <td>0.596491</td>\n",
       "      <td>0.547655</td>\n",
       "      <td>0.520801</td>\n",
       "      <td>0.485804</td>\n",
       "      <td>0.327526</td>\n",
       "      <td>0.195489</td>\n",
       "      <td>0.117647</td>\n",
       "      <td>0.091451</td>\n",
       "      <td>0.052738</td>\n",
       "      <td>0.012422</td>\n",
       "    </tr>\n",
       "  </tbody>\n",
       "</table>\n",
       "</div>"
      ],
      "text/plain": [
       "           -8000     -7000     -6000     -5000     -4000     -3000     -2000  \\\n",
       "window                                                                         \n",
       "tpr     1.000000  1.000000  1.000000  1.000000  1.000000  1.000000  1.000000   \n",
       "fpr     0.972131  0.959016  0.945902  0.931148  0.877049  0.793443  0.675410   \n",
       "f1      0.618158  0.621359  0.624593  0.628272  0.642140  0.664820  0.699708   \n",
       "\n",
       "           -1000     -900      -800      -700      -600      -500      -400   \\\n",
       "window                                                                         \n",
       "tpr     1.000000  1.000000  1.000000  1.000000  1.000000  1.000000  0.997917   \n",
       "fpr     0.481967  0.432787  0.386885  0.337705  0.295082  0.255738  0.204918   \n",
       "f1      0.765550  0.784314  0.802676  0.823328  0.842105  0.860215  0.883764   \n",
       "\n",
       "           -300      -200      -100       0         100       200       300   \\\n",
       "window                                                                         \n",
       "tpr     0.995833  0.989583  0.979167  0.964583  0.879167  0.775000  0.670833   \n",
       "fpr     0.157377  0.093443  0.037705  0.013115  0.001639  0.001639  0.001639   \n",
       "f1      0.907021  0.938735  0.966084  0.973712  0.934662  0.872216  0.801993   \n",
       "\n",
       "            400       500       600       700       800       900       1000  \\\n",
       "window                                                                         \n",
       "tpr     0.587500  0.525000  0.472917  0.425000  0.377083  0.352083  0.320833   \n",
       "fpr     0.000000  0.000000  0.000000  0.000000  0.000000  0.000000  0.000000   \n",
       "f1      0.740157  0.688525  0.642150  0.596491  0.547655  0.520801  0.485804   \n",
       "\n",
       "            2000      3000      4000      5000      6000      7000  \n",
       "window                                                              \n",
       "tpr     0.195833  0.108333  0.062500  0.047917  0.027083  0.006250  \n",
       "fpr     0.000000  0.000000  0.000000  0.000000  0.000000  0.000000  \n",
       "f1      0.327526  0.195489  0.117647  0.091451  0.052738  0.012422  "
      ]
     },
     "metadata": {},
     "output_type": "display_data"
    }
   ],
   "source": [
    "table = pd.DataFrame(dict(zip([p[0] for p in params],zip(tpr, fpr, f1))))\n",
    "table['window'] = ['tpr', 'fpr', 'f1']\n",
    "table.set_index('window', inplace=True)\n",
    "display(table)"
   ]
  },
  {
   "cell_type": "code",
   "execution_count": 13,
   "metadata": {
    "collapsed": false
   },
   "outputs": [
    {
     "data": {
      "image/png": "[encoded data removed]",
      "text/plain": [
       "<matplotlib.figure.Figure at 0x7f960bf2b6a0>"
      ]
     },
     "metadata": {},
     "output_type": "display_data"
    }
   ],
   "source": [
    "plt.plot(fpr, tpr)\n",
    "plt.plot([0, 1], [0, 1],'r--')\n",
    "plt.xlim([0, 1])\n",
    "plt.ylim([0, 1])\n",
    "plt.ylabel('True Positive Rate')\n",
    "plt.xlabel('False Positive Rate')\n",
    "plt.show()"
   ]
  },
  {
   "cell_type": "code",
   "execution_count": 14,
   "metadata": {
    "collapsed": false
   },
   "outputs": [
    {
     "name": "stdout",
     "output_type": "stream",
     "text": [
      "(0, 0)\n",
      "0.973711882229\n"
     ]
    }
   ],
   "source": [
    "max_f1_index = np.argmax(f1)\n",
    "print(params[max_f1_index])\n",
    "print(f1[max_f1_index])"
   ]
  },
  {
   "cell_type": "code",
   "execution_count": 15,
   "metadata": {
    "collapsed": false
   },
   "outputs": [
    {
     "data": {
      "image/png": "[encoded data removed]",
      "text/plain": [
       "<matplotlib.figure.Figure at 0x7f9638630240>"
      ]
     },
     "metadata": {},
     "output_type": "display_data"
    }
   ],
   "source": [
    "plt.plot(fpr, tpr)\n",
    "plt.xlim([0, 0.3])\n",
    "plt.ylim([0.6, 1])\n",
    "plt.ylabel('True Positive Rate')\n",
    "plt.xlabel('False Positive Rate')\n",
    "plt.show()"
   ]
  }
 ],
 "metadata": {
  "kernelspec": {
   "display_name": "Python 3",
   "language": "python",
   "name": "python3"
  },
  "language_info": {
   "codemirror_mode": {
    "name": "ipython",
    "version": 3
   },
   "file_extension": ".py",
   "mimetype": "text/x-python",
   "name": "python",
   "nbconvert_exporter": "python",
   "pygments_lexer": "ipython3",
   "version": "3.5.2"
  }
 },
 "nbformat": 4,
 "nbformat_minor": 2
}
