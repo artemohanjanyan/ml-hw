{
 "cells": [
  {
   "cell_type": "code",
   "execution_count": 1,
   "metadata": {
    "collapsed": false,
    "deletable": true,
    "editable": true
   },
   "outputs": [],
   "source": [
    "import pandas as pd\n",
    "import matplotlib.pyplot as plt\n",
    "from matplotlib.colors import ListedColormap\n",
    "%matplotlib inline\n",
    "\n",
    "import numpy as np\n",
    "import scipy.stats as sp\n",
    "\n",
    "import math\n",
    "from collections import namedtuple\n",
    "from functools import partial"
   ]
  },
  {
   "cell_type": "code",
   "execution_count": 2,
   "metadata": {
    "collapsed": false,
    "deletable": true,
    "editable": true
   },
   "outputs": [],
   "source": [
    "data = pd.read_csv(\"chips.txt\", header = None)\n",
    "\n",
    "X = data.values[:,:2]\n",
    "Y = data.values[:,2]\n",
    "\n",
    "np.random.seed(0)\n",
    "block_n = 10\n",
    "permutation_n = 5\n",
    "random_permutations = [np.random.permutation(len(X)) for _ in range(permutation_n)]"
   ]
  },
  {
   "cell_type": "code",
   "execution_count": 3,
   "metadata": {
    "collapsed": true,
    "deletable": true,
    "editable": true
   },
   "outputs": [],
   "source": [
    "cmap_light = ListedColormap(['#FFAAAA', '#AAAAFF'])\n",
    "\n",
    "Params = namedtuple(\"Params\", \"k norm trans kernel\")"
   ]
  },
  {
   "cell_type": "code",
   "execution_count": 4,
   "metadata": {
    "collapsed": false,
    "deletable": true,
    "editable": true
   },
   "outputs": [],
   "source": [
    "step = 0.01\n",
    "x_min, y_min = np.amin(X, axis = 0) - step\n",
    "x_max, y_max = np.amax(X, axis = 0) + step"
   ]
  },
  {
   "cell_type": "code",
   "execution_count": 5,
   "metadata": {
    "collapsed": false,
    "deletable": true,
    "editable": true
   },
   "outputs": [],
   "source": [
    "def estimate(X, Y, point, params):\n",
    "    distances = params.norm(X - point, axis = -1)\n",
    "    dist_arg_sorted = np.argsort(distances)\n",
    "    norm_distance = distances[dist_arg_sorted[params.k + 1]]\n",
    "    \n",
    "    ys = np.unique(Y)\n",
    "    scores = [np.sum(params.kernel(distances / norm_distance) * (Y == y))\n",
    "              for y in ys]\n",
    "    \n",
    "    return ys[np.argmax(scores)]"
   ]
  },
  {
   "cell_type": "code",
   "execution_count": 6,
   "metadata": {
    "collapsed": false,
    "deletable": true,
    "editable": true
   },
   "outputs": [],
   "source": [
    "def cross_validate(X, Y, estimate, block_n, permutations):\n",
    "#     accuracy = 0\n",
    "    f1_sum = 0\n",
    "    for permutation in permutations:\n",
    "        x_parts = np.array_split(X[permutation], block_n)\n",
    "        y_parts = np.array_split(Y[permutation], block_n)\n",
    "        for i in range(block_n):\n",
    "            x_train = np.concatenate(np.delete(x_parts, i, 0))\n",
    "            y_train = np.concatenate(np.delete(y_parts, i, 0))\n",
    "            x_test = x_parts[i]\n",
    "            y_test = y_parts[i]\n",
    "            \n",
    "            test_accuracy = 0\n",
    "            true_positive = 0\n",
    "            false_positive = 0\n",
    "            positive = np.sum(y_test == 1)\n",
    "            \n",
    "            for x, y in zip(x_test, y_test):\n",
    "                prediction = estimate(x_train, y_train, x)\n",
    "#                 test_accuracy += (prediction == y)\n",
    "                true_positive += (prediction == 0 and y == 0)\n",
    "                false_positive += (prediction == 0 and y == 1)\n",
    "            \n",
    "#             accuracy += test_accuracy / len(x_test)\n",
    "            \n",
    "            if true_positive != 0:\n",
    "                recall = true_positive / positive\n",
    "                precision = true_positive / (true_positive + false_positive)\n",
    "                f1 = 2 * precision * recall / (precision + recall)\n",
    "                f1_sum += f1\n",
    "            \n",
    "#     accuracy /= block_n * len(permutations)\n",
    "    f1_sum /= block_n * len(permutations)\n",
    "    \n",
    "    return f1_sum"
   ]
  },
  {
   "cell_type": "code",
   "execution_count": 7,
   "metadata": {
    "collapsed": false,
    "deletable": true,
    "editable": true
   },
   "outputs": [],
   "source": [
    "def identity(x):\n",
    "    return x\n",
    "\n",
    "def polar(x):\n",
    "    return np.column_stack([\n",
    "        np.sqrt(x[:,0] ** 2 + x[:,1] ** 2),\n",
    "        np.arctan2(x[:,1], x[:,0])\n",
    "    ])\n",
    "\n",
    "def withPolar(x):\n",
    "    return np.concatenate([x, polar(x)], axis = 1)\n",
    "\n",
    "def withRadius(x):\n",
    "    x = x - np.average(x, axis = 0)\n",
    "    return np.column_stack([\n",
    "        x[:,0],\n",
    "        x[:,1],\n",
    "        np.sqrt(x[:,0] ** 2 + x[:,1] ** 2)\n",
    "    ])\n",
    "\n",
    "def withSqr(x):\n",
    "    x = x - np.average(x, axis = 0)\n",
    "    return np.column_stack([\n",
    "        x[:,0],\n",
    "        x[:,1],\n",
    "        x[:,0] ** 2,\n",
    "        x[:,1] ** 2,\n",
    "        x[:,0] * x[:,1]\n",
    "    ])\n",
    "\n",
    "def with3(x):\n",
    "    x = x - np.average(x, axis = 0)\n",
    "    return np.column_stack([\n",
    "        x[:,0],\n",
    "        x[:,1],\n",
    "        x[:,0] ** 3,\n",
    "        x[:,0] ** 2 * x[:,1],\n",
    "        x[:,0] * x[:,1] ** 2,\n",
    "        x[:,1] ** 3\n",
    "    ])\n",
    "\n",
    "\n",
    "def kernelConst(x):\n",
    "    return (np.abs(x) < 1.0) * 0.5\n",
    "\n",
    "def kernelTriangle(x):\n",
    "    xabs = np.abs(x)\n",
    "    return (xabs < 1.0) * (1.0 - xabs)\n",
    "\n",
    "def kernelEpanechnikov(x):\n",
    "    return 0.75 * (1.0 - x ** 2.0) * (np.abs(x) < 1.0)\n",
    "\n",
    "\n",
    "params_set = [\n",
    "    Params(k, partial(np.linalg.norm, ord = norm_ord), trans_f, kernel_f)\n",
    "    for k in np.arange(2, round(math.sqrt(len(X)) + 1))\n",
    "    for norm_ord in [\n",
    "        1, \n",
    "        1.5, \n",
    "        2, \n",
    "        np.inf\n",
    "    ]\n",
    "    for trans_f in [\n",
    "        identity,\n",
    "        withSqr,\n",
    "        withRadius,\n",
    "        with3,\n",
    "        polar,\n",
    "        withPolar\n",
    "    ]\n",
    "    # Parzen-Rosenblatt window with variable window width\n",
    "    for kernel_f in [\n",
    "        kernelConst,\n",
    "        kernelTriangle,\n",
    "        kernelEpanechnikov\n",
    "    ]\n",
    "]"
   ]
  },
  {
   "cell_type": "code",
   "execution_count": 8,
   "metadata": {
    "collapsed": false,
    "deletable": true,
    "editable": true
   },
   "outputs": [],
   "source": [
    "params_accuracies = [cross_validate(p.trans(X), Y, partial(estimate, params = p), block_n, random_permutations)\n",
    "                     for p in params_set]"
   ]
  },
  {
   "cell_type": "code",
   "execution_count": 9,
   "metadata": {
    "collapsed": false,
    "deletable": true,
    "editable": true
   },
   "outputs": [
    {
     "name": "stdout",
     "output_type": "stream",
     "text": [
      "0.820339216339\n",
      "Params(k=10, norm=functools.partial(<function norm at 0x7f9238273b70>, ord=1.5), trans=<function withRadius at 0x7f921688f950>, kernel=<function kernelConst at 0x7f921688fb70>)\n"
     ]
    }
   ],
   "source": [
    "best_params = params_set[np.argmax(params_accuracies)]\n",
    "print(cross_validate(best_params.trans(X), Y, partial(estimate, params=best_params), block_n, random_permutations))\n",
    "print(best_params)"
   ]
  },
  {
   "cell_type": "code",
   "execution_count": 10,
   "metadata": {
    "collapsed": false,
    "deletable": true,
    "editable": true
   },
   "outputs": [],
   "source": [
    "xx, yy = np.meshgrid(np.arange(x_min, x_max, step),\n",
    "                     np.arange(y_min, y_max, step))\n",
    "transX = best_params.trans(X)\n",
    "transPoints = best_params.trans(np.column_stack([xx.reshape((-1)), yy.reshape((-1))]))\n",
    "zz = np.array([estimate(transX, Y, p, best_params)\n",
    "               for p in transPoints]\n",
    "             ).reshape(xx.shape)"
   ]
  },
  {
   "cell_type": "code",
   "execution_count": 11,
   "metadata": {
    "collapsed": false,
    "deletable": true,
    "editable": true
   },
   "outputs": [
    {
     "data": {
      "text/plain": [
       "<matplotlib.collections.PathCollection at 0x7f92147d84a8>"
      ]
     },
     "execution_count": 11,
     "metadata": {},
     "output_type": "execute_result"
    },
    {
     "data": {
      "image/png": "[encoded data removed]",
      "text/plain": [
       "<matplotlib.figure.Figure at 0x7f9248459b70>"
      ]
     },
     "metadata": {},
     "output_type": "display_data"
    }
   ],
   "source": [
    "plt.figure(figsize=(15, 15))\n",
    "plt.xlim(x_min, x_max)\n",
    "plt.ylim(y_min, y_max)\n",
    "\n",
    "x0, y0 = X[Y == 0].T\n",
    "x1, y1 = X[Y == 1].T\n",
    "\n",
    "plt.pcolormesh(xx, yy, zz, cmap = cmap_light)\n",
    "plt.scatter(x0, y0, marker = 'D', color = 'red',  s = 50)\n",
    "plt.scatter(x1, y1, marker = 'o', color = 'blue', s = 50)"
   ]
  },
  {
   "cell_type": "code",
   "execution_count": null,
   "metadata": {
    "collapsed": true
   },
   "outputs": [],
   "source": []
  }
 ],
 "metadata": {
  "kernelspec": {
   "display_name": "Python 3",
   "language": "python",
   "name": "python3"
  },
  "language_info": {
   "codemirror_mode": {
    "name": "ipython",
    "version": 3
   },
   "file_extension": ".py",
   "mimetype": "text/x-python",
   "name": "python",
   "nbconvert_exporter": "python",
   "pygments_lexer": "ipython3",
   "version": "3.5.2"
  }
 },
 "nbformat": 4,
 "nbformat_minor": 2
}
