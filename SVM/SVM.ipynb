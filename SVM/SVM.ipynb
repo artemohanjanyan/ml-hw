{
 "cells": [
  {
   "cell_type": "code",
   "execution_count": 1,
   "metadata": {
    "collapsed": true,
    "deletable": true,
    "editable": true
   },
   "outputs": [],
   "source": [
    "import pandas as pd\n",
    "import matplotlib.pyplot as plt\n",
    "from matplotlib.colors import ListedColormap\n",
    "%matplotlib inline\n",
    "\n",
    "import numpy as np\n",
    "import scipy as sp\n",
    "from scipy import stats as sps\n",
    "\n",
    "import math\n",
    "from collections import namedtuple\n",
    "from functools import partial"
   ]
  },
  {
   "cell_type": "code",
   "execution_count": 2,
   "metadata": {
    "collapsed": true,
    "deletable": true,
    "editable": true
   },
   "outputs": [],
   "source": [
    "data = pd.read_csv(\"chips.txt\", header = None)\n",
    "\n",
    "X = data.values[:,:2]\n",
    "Y = data.values[:,2]\n",
    "\n",
    "np.random.seed(0)\n",
    "block_n = 10\n",
    "permutation = np.random.permutation(len(X))\n",
    "\n",
    "x_parts = np.array_split(X[permutation], block_n)\n",
    "y_parts = np.array_split(Y[permutation], block_n)"
   ]
  },
  {
   "cell_type": "code",
   "execution_count": 3,
   "metadata": {
    "collapsed": true,
    "deletable": true,
    "editable": true
   },
   "outputs": [],
   "source": [
    "cmap_light = ListedColormap(['#FFAAAA', '#AAAAFF'])\n",
    "\n",
    "Params = namedtuple(\"Params\", \"k norm trans kernel\")"
   ]
  },
  {
   "cell_type": "code",
   "execution_count": 4,
   "metadata": {
    "collapsed": true,
    "deletable": true,
    "editable": true
   },
   "outputs": [],
   "source": [
    "step = 0.01\n",
    "x_min, y_min = np.amin(X, axis = 0) - step\n",
    "x_max, y_max = np.amax(X, axis = 0) + step"
   ]
  },
  {
   "cell_type": "code",
   "execution_count": 5,
   "metadata": {
    "collapsed": true,
    "deletable": true,
    "editable": true
   },
   "outputs": [],
   "source": [
    "class knnClassifier():\n",
    "\n",
    "    def __init__(self, params):\n",
    "        self.params = params\n",
    "        \n",
    "    def fit(self, x, y):\n",
    "        self.x = self.params.trans(x)\n",
    "        self.y = y\n",
    "        \n",
    "    def predict(self, points):\n",
    "        points = self.params.trans(points)\n",
    "        ans = []\n",
    "        for point in points:\n",
    "            distances = self.params.norm(self.x - point, axis = -1)\n",
    "            dist_arg_sorted = np.argsort(distances)\n",
    "            norm_distance = distances[dist_arg_sorted[self.params.k + 1]]\n",
    "\n",
    "            ys = np.unique(self.y)\n",
    "            scores = [np.sum(self.params.kernel(distances / norm_distance) * (self.y == y))\n",
    "                      for y in ys]\n",
    "            ans.append(ys[np.argmax(scores)])\n",
    "        return np.array(ans)"
   ]
  },
  {
   "cell_type": "code",
   "execution_count": 6,
   "metadata": {
    "collapsed": true,
    "deletable": true,
    "editable": true
   },
   "outputs": [],
   "source": [
    "def precision(contingency_table):\n",
    "    return contingency_table[1][1] / (contingency_table[1][1] + contingency_table[0][1])\n",
    "\n",
    "def recall(contingency_table):\n",
    "    return contingency_table[1][1] / (contingency_table[1][1] + contingency_table[0][0])\n",
    "\n",
    "def fallout(contingency_table):\n",
    "    return contingency_table[0][1] / (contingency_table[0][1] + contingency_table[1][0])\n",
    "\n",
    "def f1_measure(contingency_table):\n",
    "    p = precision(contingency_table)\n",
    "    r = recall(contingency_table)\n",
    "    return 2 * p * r / (p + r)\n",
    "\n",
    "def f1_measure_reversed(contingency_table):\n",
    "    ct = np.array(contingency_table)\n",
    "    for i in [0, 1]:\n",
    "        ct[i][0], ct[i][1] = ct[i][1], ct[i][0]\n",
    "    return f1_measure(ct)\n",
    "\n",
    "def cross_validate_vec(x_parts, y_parts, classifier, cl=1):\n",
    "    cts = []\n",
    "    for i in range(len(x_parts)):\n",
    "        x_train = np.concatenate(np.delete(x_parts, i, 0))\n",
    "        y_train = np.concatenate(np.delete(y_parts, i, 0))\n",
    "        x_test = x_parts[i]\n",
    "        y_test = y_parts[i]\n",
    "        \n",
    "        classifier.fit(x_train, y_train)\n",
    "        y_pred = classifier.predict(x_test)\n",
    "\n",
    "        true_positive  = np.sum(np.logical_and(y_pred == cl, y_test == cl))\n",
    "        false_positive = np.sum(np.logical_and(y_pred == cl, y_test != cl))\n",
    "        true_negative  = np.sum(np.logical_and(y_pred != cl, y_test != cl))\n",
    "        false_negative = np.sum(np.logical_and(y_pred != cl, y_test == cl))\n",
    "\n",
    "        contingency_table = [[0, 0], [0, 0]]\n",
    "        contingency_table[1][1] = true_positive  / y_test.shape[0]\n",
    "        contingency_table[0][1] = false_positive / y_test.shape[0]\n",
    "        contingency_table[1][0] = true_negative  / y_test.shape[0]\n",
    "        contingency_table[0][0] = false_negative / y_test.shape[0]\n",
    "        cts.append(contingency_table)\n",
    "    \n",
    "    return np.array(cts)\n",
    "\n",
    "def cross_validate(x_parts, y_parts, classifier, cl=1):\n",
    "    return np.average(cross_validate_vec(x_parts, y_parts, classifier, cl), axis = 0)"
   ]
  },
  {
   "cell_type": "code",
   "execution_count": 7,
   "metadata": {
    "collapsed": true,
    "deletable": true,
    "editable": true
   },
   "outputs": [],
   "source": [
    "def wilcoxon(x, y):\n",
    "    d = x - y\n",
    "    d = np.compress(np.not_equal(d, 0), d, axis=-1)\n",
    "    count = len(d)\n",
    "    \n",
    "    r = sps.rankdata(np.abs(d))\n",
    "    r_plus  = np.sum((d > 0) * r, axis = 0)\n",
    "    r_minus = np.sum((d < 0) * r, axis = 0)\n",
    "    \n",
    "    T = min(r_plus, r_minus)\n",
    "    return T\n",
    "    "
   ]
  },
  {
   "cell_type": "code",
   "execution_count": 8,
   "metadata": {
    "collapsed": true,
    "deletable": true,
    "editable": true
   },
   "outputs": [],
   "source": [
    "def identity(x):\n",
    "    return x\n",
    "\n",
    "def polar(x):\n",
    "    return np.column_stack([\n",
    "        np.sqrt(x[:,0] ** 2 + x[:,1] ** 2),\n",
    "        np.arctan2(x[:,1], x[:,0])\n",
    "    ])\n",
    "\n",
    "def withPolar(x):\n",
    "    return np.concatenate([x, polar(x)], axis = 1)\n",
    "\n",
    "def withRadius(x):\n",
    "    x = x - np.average(x, axis = 0)\n",
    "    return np.column_stack([\n",
    "        x[:,0],\n",
    "        x[:,1],\n",
    "        np.sqrt(x[:,0] ** 2 + x[:,1] ** 2)\n",
    "    ])\n",
    "\n",
    "def withSqr(x):\n",
    "    x = x - np.average(x, axis = 0)\n",
    "    return np.column_stack([\n",
    "        x[:,0],\n",
    "        x[:,1],\n",
    "        x[:,0] ** 2,\n",
    "        x[:,1] ** 2,\n",
    "        x[:,0] * x[:,1]\n",
    "    ])\n",
    "\n",
    "def with3(x):\n",
    "    x = x - np.average(x, axis = 0)\n",
    "    return np.column_stack([\n",
    "        x[:,0],\n",
    "        x[:,1],\n",
    "        x[:,0] ** 3,\n",
    "        x[:,0] ** 2 * x[:,1],\n",
    "        x[:,0] * x[:,1] ** 2,\n",
    "        x[:,1] ** 3\n",
    "    ])\n",
    "\n",
    "\n",
    "def kernelConst(x):\n",
    "    return (np.abs(x) < 1.0) * 0.5\n",
    "\n",
    "def kernelTriangle(x):\n",
    "    xabs = np.abs(x)\n",
    "    return (xabs < 1.0) * (1.0 - xabs)\n",
    "\n",
    "def kernelEpanechnikov(x):\n",
    "    return 0.75 * (1.0 - x ** 2.0) * (np.abs(x) < 1.0)\n",
    "\n",
    "\n",
    "params_set = [\n",
    "    Params(k, partial(np.linalg.norm, ord = norm_ord), trans_f, kernel_f)\n",
    "    for k in np.arange(2, round(math.sqrt(len(X)) + 1))\n",
    "    for norm_ord in [\n",
    "        1,\n",
    "        1.5,\n",
    "        2\n",
    "    ]\n",
    "    for trans_f in [\n",
    "        identity,\n",
    "        withSqr,\n",
    "        withRadius,\n",
    "        with3\n",
    "    ]\n",
    "    # Parzen-Rosenblatt window with variable window width\n",
    "    for kernel_f in [\n",
    "        kernelConst,\n",
    "        kernelTriangle,\n",
    "        kernelEpanechnikov\n",
    "    ]\n",
    "]"
   ]
  },
  {
   "cell_type": "code",
   "execution_count": 9,
   "metadata": {
    "collapsed": false,
    "deletable": true,
    "editable": true
   },
   "outputs": [
    {
     "name": "stdout",
     "output_type": "stream",
     "text": [
      "[ 0.5         0.66666667  0.83333333  0.72727273  0.93333333  0.9\n",
      "  0.92307692  0.57142857  0.44444444  0.6       ]\n",
      "[ 0.8         0.66666667  0.90909091  0.83333333  0.71428571  0.84210526\n",
      "  0.83333333  0.5         0.4         0.54545455]\n",
      "21.0\n"
     ]
    }
   ],
   "source": [
    "f1_measure_vec = np.vectorize(f1_measure, signature=\"(2,2)->()\")\n",
    "f1_0 = f1_measure_vec(cross_validate_vec(x_parts, y_parts, knnClassifier(params_set[0])))\n",
    "f1_1 = f1_measure_vec(cross_validate_vec(x_parts, y_parts, knnClassifier(params_set[1])))\n",
    "\n",
    "print(f1_0)\n",
    "print(f1_1)\n",
    "\n",
    "print(wilcoxon(f1_0, f1_1))"
   ]
  },
  {
   "cell_type": "code",
   "execution_count": 10,
   "metadata": {
    "collapsed": false,
    "deletable": true,
    "editable": true
   },
   "outputs": [],
   "source": [
    "params_accuracies = [f1_measure(cross_validate(x_parts, y_parts, knnClassifier(p)))\n",
    "                     for p in params_set]"
   ]
  },
  {
   "cell_type": "code",
   "execution_count": 11,
   "metadata": {
    "collapsed": false,
    "deletable": true,
    "editable": true
   },
   "outputs": [
    {
     "name": "stdout",
     "output_type": "stream",
     "text": [
      "0.805116629044\n",
      "0.802440884821\n",
      "Params(k=11, norm=functools.partial(<function norm at 0x7fa8fb8cd7b8>, ord=1), trans=<function identity at 0x7fa8f39a98c8>, kernel=<function kernelTriangle at 0x7fa8ed66ed90>)\n"
     ]
    }
   ],
   "source": [
    "best_params = params_set[np.argmax(params_accuracies)]\n",
    "ct = cross_validate(x_parts, y_parts, knnClassifier(best_params))\n",
    "print(f1_measure(ct))\n",
    "print(f1_measure_reversed(ct))\n",
    "print(best_params)"
   ]
  },
  {
   "cell_type": "code",
   "execution_count": 12,
   "metadata": {
    "collapsed": true,
    "deletable": true,
    "editable": true
   },
   "outputs": [],
   "source": [
    "class Demonstrator():\n",
    "    \n",
    "    def __init__(self, x_min, y_min, x_max, y_max, step, classifier):\n",
    "        self.x_min = x_min\n",
    "        self.y_min = y_min\n",
    "        self.x_max = x_max\n",
    "        self.y_max = y_max\n",
    "        self.step = step\n",
    "        self.classifier = classifier\n",
    "        \n",
    "    def prepare(self, x, y):\n",
    "        self.x = x\n",
    "        self.y = y\n",
    "        \n",
    "        xx, yy = np.meshgrid(np.arange(self.x_min, self.x_max, self.step),\n",
    "                             np.arange(self.y_min, self.y_max, self.step))\n",
    "        self.xx = xx\n",
    "        self.yy = yy\n",
    "\n",
    "        self.classifier.fit(x, y)\n",
    "        points = np.column_stack([self.xx.reshape((-1)), self.yy.reshape((-1))])\n",
    "        self.zz = np.array([self.classifier.predict([p]) for p in points]).reshape(xx.shape)\n",
    "\n",
    "    def plot(self):\n",
    "        plt.figure(figsize=(15, 15))\n",
    "        plt.xlim(self.x_min, self.x_max)\n",
    "        plt.ylim(self.y_min, self.y_max)\n",
    "\n",
    "        x0, y0 = self.x[self.y == 0].T\n",
    "        x1, y1 = self.x[self.y == 1].T\n",
    "\n",
    "        plt.pcolormesh(self.xx, self.yy, self.zz, cmap = cmap_light)\n",
    "        plt.scatter(x0, y0, marker = 'D', color = 'red',  s = 50)\n",
    "        plt.scatter(x1, y1, marker = 'o', color = 'blue', s = 50)\n",
    "        plt.show()"
   ]
  },
  {
   "cell_type": "code",
   "execution_count": 13,
   "metadata": {
    "collapsed": true,
    "deletable": true,
    "editable": true
   },
   "outputs": [],
   "source": [
    "d = Demonstrator(x_min, y_min, x_max, y_max, step, knnClassifier(best_params))\n",
    "d.prepare(X, Y)"
   ]
  },
  {
   "cell_type": "code",
   "execution_count": 14,
   "metadata": {
    "collapsed": false,
    "deletable": true,
    "editable": true
   },
   "outputs": [
    {
     "data": {
      "image/png": "[encoded data removed]",
      "text/plain": [
       "<matplotlib.figure.Figure at 0x7fa8ed6697b8>"
      ]
     },
     "metadata": {},
     "output_type": "display_data"
    }
   ],
   "source": [
    "d.plot()"
   ]
  }
 ],
 "metadata": {
  "kernelspec": {
   "display_name": "Python 3",
   "language": "python",
   "name": "python3"
  },
  "language_info": {
   "codemirror_mode": {
    "name": "ipython",
    "version": 3
   },
   "file_extension": ".py",
   "mimetype": "text/x-python",
   "name": "python",
   "nbconvert_exporter": "python",
   "pygments_lexer": "ipython3",
   "version": "3.5.2"
  }
 },
 "nbformat": 4,
 "nbformat_minor": 2
}
